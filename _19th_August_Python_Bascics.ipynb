{
 "cells": [
  {
   "cell_type": "code",
   "execution_count": 1,
   "id": "31baf4d2-7bad-4271-8f1f-fc9d6b82f2da",
   "metadata": {},
   "outputs": [],
   "source": [
    "# Topic: Python Basics Variable"
   ]
  },
  {
   "cell_type": "code",
   "execution_count": 18,
   "id": "a74e4ad2-8677-4eff-ac9e-e8f360cf5289",
   "metadata": {
    "tags": []
   },
   "outputs": [
    {
     "name": "stdout",
     "output_type": "stream",
     "text": [
      "2 1\n"
     ]
    }
   ],
   "source": [
    "# Question 1:\n",
    "x = 1        # here we assigned 1 as a value to x variable\n",
    "y = 2        #  here we assigned 2 as a value to y variable\n",
    "x,y = y,x    # this code will interchange the values of x and y\n",
    "print (x,y)  "
   ]
  },
  {
   "cell_type": "code",
   "execution_count": 4,
   "id": "dd6f6d22-4b85-45a7-922f-bd2cff608a97",
   "metadata": {},
   "outputs": [
    {
     "name": "stdin",
     "output_type": "stream",
     "text": [
      "Enter the length 8\n",
      "Enter the breadth 4\n"
     ]
    },
    {
     "name": "stdout",
     "output_type": "stream",
     "text": [
      "The area of ractangle is 32\n"
     ]
    }
   ],
   "source": [
    "# Question 2:\n",
    "l = int(input(\"Enter the length\"))    # this code will ask user to enter the length\n",
    "b = int(input(\"Enter the breadth\"))   # this code will ask user to enter the breadth\n",
    "area = l*b   # this code will calculate the area that is leangth multiplied by breadth\n",
    "print (\"The area of ractangle is\", area)   # this code will provide the outcome      "
   ]
  },
  {
   "cell_type": "code",
   "execution_count": 7,
   "id": "115a2d21-3d60-40f4-a504-aca242e4da24",
   "metadata": {},
   "outputs": [
    {
     "name": "stdin",
     "output_type": "stream",
     "text": [
      "Enter the temperature in celsius 32\n"
     ]
    },
    {
     "name": "stdout",
     "output_type": "stream",
     "text": [
      "Your desired temperature in fahrenheit is 89.6\n"
     ]
    }
   ],
   "source": [
    "# Question 3:\n",
    "c = int(input(\"Enter the temperature in celsius\"))  # this code will take input from the user\n",
    "conversion = (c*9/5)+32 \n",
    "print (\"Your desired temperature in fahrenheit is\",conversion)"
   ]
  },
  {
   "cell_type": "code",
   "execution_count": 8,
   "id": "bccad332-4a8d-4169-a120-d6360d688f8b",
   "metadata": {},
   "outputs": [],
   "source": [
    "# Topic: String Basic Questions"
   ]
  },
  {
   "cell_type": "code",
   "execution_count": 10,
   "id": "72eb1224-3046-455f-9d6a-b1fa33f17faf",
   "metadata": {},
   "outputs": [
    {
     "name": "stdin",
     "output_type": "stream",
     "text": [
      "Enter your string Racecar\n"
     ]
    },
    {
     "name": "stdout",
     "output_type": "stream",
     "text": [
      "The length of your string is 7\n"
     ]
    }
   ],
   "source": [
    "# Question 1:\n",
    "s = input(\"Enter your string\")  # this code will take input from the user\n",
    "length = len(s)   # this is an inbuilt function of string to calculate the length of a string\n",
    "print (\"The length of your string is\",length)   # this code will provide an output"
   ]
  },
  {
   "cell_type": "code",
   "execution_count": 12,
   "id": "74181490-516f-4754-b327-1f3e04e308e0",
   "metadata": {},
   "outputs": [
    {
     "name": "stdin",
     "output_type": "stream",
     "text": [
      "Enter your sentence I ate an orange which was orange in colour\n"
     ]
    },
    {
     "name": "stdout",
     "output_type": "stream",
     "text": [
      "Your string has 15 vowels in total\n"
     ]
    }
   ],
   "source": [
    "# Question 2:\n",
    "s = input(\"Enter your sentence\")  # this code will take input from the user\n",
    "a = s.count('a')  # this code will count the number of a in the provided string\n",
    "e = s.count('e')  # this code will count the number of e in the provided string \n",
    "i = s.count('i')  # this code will count the number of i in the provided string\n",
    "o = s.count('o')  # this code will count the number of o in the provided string\n",
    "u = s.count('u')  # this code will count the number of u in the provided string\n",
    "count = a+e+i+o+u   # this code will add total number of vowels\n",
    "print (\"Your string has\",count,\"vowels in total\")  # this code will provide an output"
   ]
  },
  {
   "cell_type": "code",
   "execution_count": 14,
   "id": "248f370a-a860-4115-ba1d-70a6d6022362",
   "metadata": {},
   "outputs": [
    {
     "name": "stdout",
     "output_type": "stream",
     "text": [
      "The reversed string would be dlroW olleH\n"
     ]
    }
   ],
   "source": [
    "# Question 3:\n",
    "s = \"Hello World\"   # provided string\n",
    "reverse = s[::-1]   # this is a slicing function to reverse a string\n",
    "print (\"The reversed string would be\",reverse)  # this code will provide an outcome"
   ]
  },
  {
   "cell_type": "code",
   "execution_count": 17,
   "id": "985d8442-1a2b-476e-be91-4163b4fcc2c6",
   "metadata": {},
   "outputs": [
    {
     "name": "stdin",
     "output_type": "stream",
     "text": [
      "Enter your string racecar\n"
     ]
    },
    {
     "name": "stdout",
     "output_type": "stream",
     "text": [
      "This is a palindrome\n"
     ]
    }
   ],
   "source": [
    "# Question 4:\n",
    "a = input(\"Enter your string\")  # this code will take input from the user\n",
    "x = a[:]       # this code uses slicing and will present the string in original format\n",
    "y = a[::-1]    # this code uses slicing and will present the string in reversed format\n",
    "if a[:] == a[::-1]:   # this is an 'if' condition statement which will check if the string reads the same in original as well as reversed format\n",
    "    print (\"This is a palindrome\")   # if it does, then it will provide this outcome\n",
    "else:    # this is an else statement \n",
    "    print (\"This is not a palindrome\")   #if it is doesn't, then it will provide this outcome"
   ]
  },
  {
   "cell_type": "code",
   "execution_count": 19,
   "id": "91980858-e23a-4443-a602-78478c51e362",
   "metadata": {},
   "outputs": [
    {
     "name": "stdin",
     "output_type": "stream",
     "text": [
      "Enter your string p y t h o n\n"
     ]
    },
    {
     "name": "stdout",
     "output_type": "stream",
     "text": [
      "Your string without spaces will be python\n"
     ]
    }
   ],
   "source": [
    "# Question 5:\n",
    "s = input(\"Enter your string\")   # this code will take input from the user\n",
    "remove = s.replace(\" \",'')    # 'replace' is an inbuilt function, here it will replace 'space' with 'no space'\n",
    "print (\"Your string without spaces will be\",remove)  # this code will provide an outcome"
   ]
  }
 ],
 "metadata": {
  "kernelspec": {
   "display_name": "Python 3 (ipykernel)",
   "language": "python",
   "name": "python3"
  },
  "language_info": {
   "codemirror_mode": {
    "name": "ipython",
    "version": 3
   },
   "file_extension": ".py",
   "mimetype": "text/x-python",
   "name": "python",
   "nbconvert_exporter": "python",
   "pygments_lexer": "ipython3",
   "version": "3.10.8"
  }
 },
 "nbformat": 4,
 "nbformat_minor": 5
}
